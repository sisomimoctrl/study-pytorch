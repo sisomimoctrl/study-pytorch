{
  "nbformat": 4,
  "nbformat_minor": 0,
  "metadata": {
    "colab": {
      "name": "softmax_regression.ipynb",
      "provenance": [],
      "authorship_tag": "ABX9TyOu3Z/zseH/GH3vo6D4U8IK",
      "include_colab_link": true
    },
    "kernelspec": {
      "name": "python3",
      "display_name": "Python 3"
    },
    "language_info": {
      "name": "python"
    }
  },
  "cells": [
    {
      "cell_type": "markdown",
      "metadata": {
        "id": "view-in-github",
        "colab_type": "text"
      },
      "source": [
        "<a href=\"https://colab.research.google.com/github/sisomimoctrl/study-pytorch/blob/main/softmax_regression.ipynb\" target=\"_parent\"><img src=\"https://colab.research.google.com/assets/colab-badge.svg\" alt=\"Open In Colab\"/></a>"
      ]
    },
    {
      "cell_type": "code",
      "execution_count": null,
      "metadata": {
        "colab": {
          "base_uri": "https://localhost:8080/"
        },
        "id": "y5S-Gn19mc4E",
        "outputId": "1cad8f12-a9e3-4a9a-fc22-282ddf701b0a"
      },
      "outputs": [
        {
          "output_type": "stream",
          "name": "stdout",
          "text": [
            "method : 3\n",
            "\n",
            "Epoch    0/1000 Cost: 1.098612\n",
            "Epoch  100/1000 Cost: 0.761050\n",
            "Epoch  200/1000 Cost: 0.689991\n",
            "Epoch  300/1000 Cost: 0.643229\n",
            "Epoch  400/1000 Cost: 0.604117\n",
            "Epoch  500/1000 Cost: 0.568256\n",
            "Epoch  600/1000 Cost: 0.533922\n",
            "Epoch  700/1000 Cost: 0.500291\n",
            "Epoch  800/1000 Cost: 0.466908\n",
            "Epoch  900/1000 Cost: 0.433507\n",
            "Epoch 1000/1000 Cost: 0.399962\n"
          ]
        }
      ],
      "source": [
        "import torch\n",
        "import torch.nn as nn\n",
        "import torch.nn.functional as F\n",
        "import torch.optim as optim\n",
        "\n",
        "'''\n",
        "    0: 기본골격\n",
        "    1: torch.log_softmax 사용\n",
        "    2: F.nll_loss 사용\n",
        "    3: F.cross_entropy 사용\n",
        "'''\n",
        "method = 3\n",
        "print(f'method : {method}\\n')\n",
        "\n",
        "torch.manual_seed(1)\n",
        "\n",
        "x_train = [[1, 2, 1, 1],\n",
        "           [2, 1, 3, 2],\n",
        "           [3, 1, 3, 4],\n",
        "           [4, 1, 5, 5],\n",
        "           [1, 7, 5, 5],\n",
        "           [1, 2, 5, 6],\n",
        "           [1, 6, 6, 6],\n",
        "           [1, 7, 7, 7]]\n",
        "y_train = [2, 2, 2, 1, 1, 1, 0, 0]\n",
        "x_train = torch.FloatTensor(x_train)\n",
        "y_train = torch.LongTensor(y_train)\n",
        "\n",
        "y_one_hot = torch.zeros(8, 3)\n",
        "y_one_hot.scatter_(1, y_train.unsqueeze(1), 1)\n",
        "\n",
        "# 모델 초기화\n",
        "W = torch.zeros((4, 3), requires_grad=True)\n",
        "b = torch.zeros(1, requires_grad=True)\n",
        "# optimizer 설정\n",
        "optimizer = optim.SGD([W, b], lr=0.1)\n",
        "\n",
        "nb_epochs = 1000\n",
        "for epoch in range(nb_epochs + 1):\n",
        "\n",
        "    if method == 0: # 기본골격\n",
        "        z = x_train.matmul(W) + b\n",
        "        prediction = F.softmax(z, dim=1) \n",
        "        cost = (y_one_hot * -torch.log(prediction)).sum(dim=1).mean() # y_one_hot사용\n",
        "\n",
        "    elif method == 1: # torch.log_softmax 사용\n",
        "        z = x_train.matmul(W) + b\n",
        "        cost = (y_one_hot * -F.log_softmax(z, dim=1)).sum(dim=1).mean() # y_one_hot사용\n",
        "\n",
        "    elif method == 2: # F.nll_loss 사용\n",
        "        z = x_train.matmul(W) + b\n",
        "        cost = F.nll_loss(F.log_softmax(z, dim=1), y_train) # y_train 사용\n",
        "        \n",
        "    elif method == 3: # F.cross_entropy 사용\n",
        "        z = x_train.matmul(W) + b\n",
        "        prediction = z\n",
        "        cost = F.cross_entropy(prediction, y_train) # y_train 사용\n",
        "\n",
        "    # cost로 H(x) 개선\n",
        "    optimizer.zero_grad()\n",
        "    cost.backward()\n",
        "    optimizer.step()\n",
        "\n",
        "    # 100번마다 로그 출력\n",
        "    if epoch % 100 == 0:\n",
        "        print(f'Epoch {epoch:4d}/{nb_epochs} Cost: {cost.item():.6f}')"
      ]
    }
  ]
}