{
  "nbformat": 4,
  "nbformat_minor": 0,
  "metadata": {
    "colab": {
      "name": "simple_linear_regression.ipynb",
      "provenance": [],
      "authorship_tag": "ABX9TyMnGTuy+LKedFyPIW1Plj0z",
      "include_colab_link": true
    },
    "kernelspec": {
      "name": "python3",
      "display_name": "Python 3"
    },
    "language_info": {
      "name": "python"
    }
  },
  "cells": [
    {
      "cell_type": "markdown",
      "metadata": {
        "id": "view-in-github",
        "colab_type": "text"
      },
      "source": [
        "<a href=\"https://colab.research.google.com/github/sisomimoctrl/study-pytorch/blob/main/simple_linear_regression.ipynb\" target=\"_parent\"><img src=\"https://colab.research.google.com/assets/colab-badge.svg\" alt=\"Open In Colab\"/></a>"
      ]
    },
    {
      "cell_type": "code",
      "execution_count": null,
      "metadata": {
        "colab": {
          "base_uri": "https://localhost:8080/"
        },
        "id": "t84ULxBgn2gb",
        "outputId": "927149db-1245-4954-e321-40ef46c9f32d"
      },
      "outputs": [
        {
          "output_type": "stream",
          "name": "stdout",
          "text": [
            "method : 2\n",
            "\n",
            "Epoch    0/3000 Cost: 437.272064\n",
            "Epoch  300/3000 Cost: 0.026633\n",
            "Epoch  600/3000 Cost: 0.005162\n",
            "Epoch  900/3000 Cost: 0.001001\n",
            "Epoch 1200/3000 Cost: 0.000194\n",
            "Epoch 1500/3000 Cost: 0.000038\n",
            "Epoch 1800/3000 Cost: 0.000007\n",
            "Epoch 2100/3000 Cost: 0.000001\n",
            "Epoch 2400/3000 Cost: 0.000000\n",
            "Epoch 2700/3000 Cost: 0.000000\n",
            "Epoch 3000/3000 Cost: 0.000000\n",
            "\n",
            "[Parameter containing:\n",
            "tensor([[3.9999]], requires_grad=True), Parameter containing:\n",
            "tensor([0.0003], requires_grad=True)]\n",
            "\n",
            "훈련 후 입력이 8.0일 때의 예측값 :31.999805\n"
          ]
        }
      ],
      "source": [
        "import torch\n",
        "import torch.nn as nn\n",
        "import torch.optim as optim\n",
        "import torch.nn.functional as F\n",
        "from enum import Enum\n",
        "\n",
        "torch.manual_seed(777)\n",
        "\n",
        "\"\"\"\n",
        " 0: 기본\n",
        " 1: nn.Linear 사용\n",
        " 2: model을 클래스로 구현\n",
        "\"\"\"\n",
        "method = 2\n",
        "\n",
        "print(f'method : {method}\\n')\n",
        "\n",
        "# 데이터\n",
        "x_train = torch.FloatTensor([2,4,6]).unsqueeze(1) #옆과 같음. x_train = torch.FloatTensor([[2],[4],[6]])\n",
        "y_train = torch.FloatTensor([8,16,24]).unsqueeze(1) #옆과 같음. y_train = torch.FloatTensor([[8],[16],[24]]) \n",
        "\n",
        "if method == 0:\n",
        "    # 모델을 선언 및 초기화. y_train = x_train*W + b\n",
        "    W = torch.zeros(1, requires_grad=True)\n",
        "    b = torch.zeros(1, requires_grad=True)\n",
        "    \n",
        "    # optimizer 설정. 경사 하강법 SGD를 사용하고 learning rate를 의미하는 lr은 0.01\n",
        "    optimizer = optim.SGD([W, b], lr=0.01)\n",
        "\n",
        "elif method == 1:\n",
        "    # 모델을 선언 및 초기화. 단순 선형 회귀이므로 input_dim=1, output_dim=1.\n",
        "    model = nn.Linear(1,1)\n",
        "\n",
        "    # optimizer 설정. 경사 하강법 SGD를 사용하고 learning rate를 의미하는 lr은 0.01\n",
        "    optimizer = torch.optim.SGD(model.parameters(), lr=0.01) \n",
        "    \n",
        "elif method == 2:\n",
        "    class LinearRegressionModel(nn.Module): # torch.nn.Module을 상속받는 파이썬 클래스\n",
        "        def __init__(self):\n",
        "            super().__init__()\n",
        "            self.linear = nn.Linear(1, 1) # 단순 선형 회귀이므로 input_dim=1, output_dim=1\n",
        "\n",
        "        def forward(self, x):\n",
        "            return self.linear(x)\n",
        "\n",
        "    # 모델을 선언 및 초기화. 단순 선형 회귀이므로 input_dim=1, output_dim=1.\n",
        "    model = LinearRegressionModel()\n",
        "\n",
        "    # optimizer 설정. 경사 하강법 SGD를 사용하고 learning rate를 의미하는 lr은 0.01\n",
        "    optimizer = torch.optim.SGD(model.parameters(), lr=0.01) \n",
        "        \n",
        "        \n",
        "# 전체 훈련 데이터에 대해 경사 하강법을 3,000회 반복\n",
        "nb_epochs = 3000\n",
        "for epoch in range(nb_epochs + 1):\n",
        "\n",
        "    if method == 0:\n",
        "        # H(x) 계산\n",
        "        hypothesis = x_train * W + b\n",
        "        \n",
        "        # cost 계산\n",
        "        cost = torch.mean((hypothesis - y_train)**2)\n",
        "        \n",
        "    else: # method=1, 2\n",
        "        # H(x) 계산\n",
        "        prediction = model(x_train)\n",
        "        \n",
        "        # cost 계산\n",
        "        cost = F.mse_loss(prediction, y_train)\n",
        "\n",
        "        \n",
        "    # cost로 H(x) 개선하는 부분\n",
        "    # gradient를 0으로 초기화\n",
        "    optimizer.zero_grad()\n",
        "    # 비용 함수를 미분하여 gradient 계산\n",
        "    cost.backward()\n",
        "    # W와 b를 업데이트\n",
        "    optimizer.step()\n",
        "    \n",
        "    if epoch % 300 == 0:\n",
        "        print(f'Epoch {epoch:4d}/{nb_epochs} Cost: {cost.item():.6f}')\n",
        "        \n",
        "# 검증과정\n",
        "\n",
        "# 임의로 입력 8를 선언\n",
        "new_var =  torch.FloatTensor([[8.0]]) \n",
        "\n",
        "# 입력한 값 8에 대해서 예측값 y를 리턴받아서 pred_y에 저장\n",
        "# 파라미터 출력\n",
        "if method == 0:\n",
        "    pred_y = new_var*W+b # forward 연산\n",
        "    print(f'\\nW: {W}, b: {b}\\n')\n",
        "else:\n",
        "    pred_y = model(new_var) # forward 연산\n",
        "    print(f'\\n{list(model.parameters())}\\n')\n",
        "\n",
        "# y = 4x 이므로 입력이 8라면 y가 32에 가까운 값이 나와야 제대로 학습이 된 것\n",
        "print(f'훈련 후 입력이 {new_var.item()}일 때의 예측값 :{pred_y.item():.6f}')"
      ]
    }
  ]
}