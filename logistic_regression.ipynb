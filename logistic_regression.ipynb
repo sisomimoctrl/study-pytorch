{
  "nbformat": 4,
  "nbformat_minor": 0,
  "metadata": {
    "colab": {
      "name": "logistic_regression.ipynb",
      "provenance": [],
      "authorship_tag": "ABX9TyP6Vwye0iYFMprX1u79HlvG",
      "include_colab_link": true
    },
    "kernelspec": {
      "name": "python3",
      "display_name": "Python 3"
    },
    "language_info": {
      "name": "python"
    }
  },
  "cells": [
    {
      "cell_type": "markdown",
      "metadata": {
        "id": "view-in-github",
        "colab_type": "text"
      },
      "source": [
        "<a href=\"https://colab.research.google.com/github/sisomimoctrl/study-pytorch/blob/main/logistic_regression.ipynb\" target=\"_parent\"><img src=\"https://colab.research.google.com/assets/colab-badge.svg\" alt=\"Open In Colab\"/></a>"
      ]
    },
    {
      "cell_type": "code",
      "execution_count": 1,
      "metadata": {
        "colab": {
          "base_uri": "https://localhost:8080/"
        },
        "id": "svW_4uBo0apF",
        "outputId": "54bd1b0c-a028-43dd-a0d0-52785df70fbd"
      },
      "outputs": [
        {
          "output_type": "stream",
          "name": "stdout",
          "text": [
            "method : 2\n",
            "\n",
            "Epoch    0/1000 Cost: 1.712296\n",
            "Epoch  100/1000 Cost: 0.133719\n",
            "Epoch  200/1000 Cost: 0.080292\n",
            "Epoch  300/1000 Cost: 0.057722\n",
            "Epoch  400/1000 Cost: 0.045192\n",
            "Epoch  500/1000 Cost: 0.037188\n",
            "Epoch  600/1000 Cost: 0.031620\n",
            "Epoch  700/1000 Cost: 0.027517\n",
            "Epoch  800/1000 Cost: 0.024364\n",
            "Epoch  900/1000 Cost: 0.021864\n",
            "Epoch 1000/1000 Cost: 0.019832\n",
            "\n",
            "tensor([[False],\n",
            "        [False],\n",
            "        [False],\n",
            "        [ True],\n",
            "        [ True],\n",
            "        [ True]])\n",
            "\n",
            "[Parameter containing:\n",
            "tensor([[3.2540, 1.5184]], requires_grad=True), Parameter containing:\n",
            "tensor([-14.4865], requires_grad=True)]\n"
          ]
        }
      ],
      "source": [
        "import torch\n",
        "import torch.nn as nn\n",
        "import torch.nn.functional as F\n",
        "import torch.optim as optim\n",
        "\n",
        "torch.manual_seed(777)\n",
        "\n",
        "\"\"\"\n",
        "    0: 기본골격\n",
        "    1: nn.Sequential 구현\n",
        "    2: class 구현\n",
        "\"\"\"\n",
        "method = 2\n",
        "print(f'method : {method}\\n')\n",
        "\n",
        "# 데이터\n",
        "x_data = [[1, 2], [2, 3], [3, 1], [4, 3], [5, 3], [6, 2]]\n",
        "y_data = [[0], [0], [0], [1], [1], [1]]\n",
        "x_train = torch.FloatTensor(x_data)\n",
        "y_train = torch.FloatTensor(y_data)\n",
        "\n",
        "# 모델 초기화\n",
        "W = torch.zeros((2, 1), requires_grad=True)\n",
        "b = torch.zeros(1, requires_grad=True)\n",
        "\n",
        "\n",
        "# optimizer 설정\n",
        "if method == 0:\n",
        "    optimizer = optim.SGD([W, b], lr=1)\n",
        "elif method == 1:\n",
        "    model = nn.Sequential(\n",
        "        nn.Linear(2, 1), # input_dim = 2, output_dim = 1\n",
        "        nn.Sigmoid() # 출력은 시그모이드 함수를 거친다\n",
        "    )\n",
        "    optimizer = optim.SGD(model.parameters(), lr=1)\n",
        "elif method == 2:\n",
        "    class BinaryClassifier(nn.Module):\n",
        "        def __init__(self):\n",
        "            super().__init__()\n",
        "            self.linear = nn.Linear(2, 1)\n",
        "            self.sigmoid = nn.Sigmoid()\n",
        "            \n",
        "        def forward(self, x):\n",
        "            return self.sigmoid(self.linear(x))\n",
        "\n",
        "    model = BinaryClassifier()\n",
        "    optimizer = optim.SGD(model.parameters(), lr=1)\n",
        "\n",
        "nb_epochs = 1000\n",
        "for epoch in range(nb_epochs + 1):\n",
        "\n",
        "    # Cost 계산\n",
        "    if method == 0:\n",
        "        hypothesis = torch.sigmoid(x_train.matmul(W) + b)\n",
        "        cost = -(y_train * torch.log(hypothesis) + (1 - y_train) * torch.log(1 - hypothesis)).mean()\n",
        "    else:\n",
        "        hypothesis = model(x_train)\n",
        "        cost = F.binary_cross_entropy(hypothesis, y_train)\n",
        "\n",
        "    # cost로 H(x) 개선\n",
        "    optimizer.zero_grad()\n",
        "    cost.backward()\n",
        "    optimizer.step()\n",
        "\n",
        "    # 100번마다 로그 출력\n",
        "    if epoch % 100 == 0:\n",
        "        print(f'Epoch {epoch:4d}/{nb_epochs} Cost: {cost.item():.6f}')\n",
        "        \n",
        "# 검증\n",
        "if method == 0:\n",
        "    hypothesis = torch.sigmoid(x_train.matmul(W) + b)\n",
        "    prediction = hypothesis >= torch.FloatTensor([0.5])\n",
        "    print(f'\\n{prediction}\\n')\n",
        "    print(W,b)\n",
        "else:\n",
        "    hypothesis = model(x_train)\n",
        "    prediction = hypothesis >= torch.FloatTensor([0.5])\n",
        "    print(f'\\n{prediction}\\n')   \n",
        "    print(list(model.parameters()))"
      ]
    }
  ]
}